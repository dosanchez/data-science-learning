{
  "nbformat": 4,
  "nbformat_minor": 0,
  "metadata": {
    "colab": {
      "provenance": [],
      "authorship_tag": "ABX9TyMNSCQLnX2rfsBB044bgEfP",
      "include_colab_link": true
    },
    "kernelspec": {
      "name": "python3",
      "display_name": "Python 3"
    },
    "language_info": {
      "name": "python"
    }
  },
  "cells": [
    {
      "cell_type": "markdown",
      "metadata": {
        "id": "view-in-github",
        "colab_type": "text"
      },
      "source": [
        "<a href=\"https://colab.research.google.com/github/dosanchez/data-science-learning/blob/main/classification_chpt_3.ipynb\" target=\"_parent\"><img src=\"https://colab.research.google.com/assets/colab-badge.svg\" alt=\"Open In Colab\"/></a>"
      ]
    },
    {
      "cell_type": "code",
      "execution_count": 2,
      "metadata": {
        "id": "ZZHGduFV6F9p"
      },
      "outputs": [],
      "source": [
        "dict = {\"edad\": [25, 35, 45], \"nombre\": ['juan', 'pedro', 'lucas']}"
      ]
    },
    {
      "cell_type": "code",
      "source": [
        "dict['edad'][1]"
      ],
      "metadata": {
        "id": "vFCMuwXTOPxE",
        "outputId": "b602c3ab-1bb3-4da5-9332-346ac07ec623",
        "colab": {
          "base_uri": "https://localhost:8080/"
        }
      },
      "execution_count": 4,
      "outputs": [
        {
          "output_type": "execute_result",
          "data": {
            "text/plain": [
              "35"
            ]
          },
          "metadata": {},
          "execution_count": 4
        }
      ]
    }
  ]
}