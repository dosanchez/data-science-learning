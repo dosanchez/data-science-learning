{
  "cells": [
    {
      "cell_type": "code",
      "execution_count": null,
      "id": "6bd0f5a1-390a-4915-a873-ce1f588729f6",
      "metadata": {
        "id": "6bd0f5a1-390a-4915-a873-ce1f588729f6"
      },
      "outputs": [],
      "source": [
        "print (\"hola\")"
      ]
    }
  ],
  "metadata": {
    "kernelspec": {
      "display_name": "Python [conda env:base] *",
      "language": "python",
      "name": "conda-base-py"
    },
    "language_info": {
      "codemirror_mode": {
        "name": "ipython",
        "version": 3
      },
      "file_extension": ".py",
      "mimetype": "text/x-python",
      "name": "python",
      "nbconvert_exporter": "python",
      "pygments_lexer": "ipython3",
      "version": "3.12.7"
    },
    "colab": {
      "provenance": []
    }
  },
  "nbformat": 4,
  "nbformat_minor": 5
}